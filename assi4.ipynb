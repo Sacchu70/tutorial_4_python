{
 "cells": [
  {
   "cell_type": "markdown",
   "id": "aa440597-6e71-47f3-bc64-fb2a3f1ab499",
   "metadata": {},
   "source": [
    "Q1. Create a python program to sort the given list of tuples based on integer value using a\n",
    "lambda function.\n",
    "[('Sachin Tendulkar', 34357), ('Ricky Ponting', 27483), ('Jack Kallis', 25534), ('Virat Kohli', 24936)]"
   ]
  },
  {
   "cell_type": "code",
   "execution_count": 18,
   "id": "5a1b7430-0798-4872-853b-cb43c9d18169",
   "metadata": {},
   "outputs": [],
   "source": [
    " s = [(\"Sachin Tendulkar\",34357),(\"Ricky ponting\",27483),(\"jack kallis\",25534),(\"virat kohli\",24936)]"
   ]
  },
  {
   "cell_type": "code",
   "execution_count": 35,
   "id": "5c0c20ff-344d-42c6-8e15-eea49b4c4e88",
   "metadata": {},
   "outputs": [
    {
     "data": {
      "text/plain": [
       "<function __main__.<lambda>(a)>"
      ]
     },
     "execution_count": 35,
     "metadata": {},
     "output_type": "execute_result"
    }
   ],
   "source": [
    "lambda a : a[1]"
   ]
  },
  {
   "cell_type": "code",
   "execution_count": 29,
   "id": "2109c35c-c260-4a6a-9c17-913a1808f287",
   "metadata": {},
   "outputs": [
    {
     "data": {
      "text/plain": [
       "('Sachin Tendulkar', 34357)"
      ]
     },
     "execution_count": 29,
     "metadata": {},
     "output_type": "execute_result"
    }
   ],
   "source": []
  },
  {
   "cell_type": "markdown",
   "id": "c34ba0a0-1d8e-4d94-992f-b45c8cce0d24",
   "metadata": {},
   "source": [
    "Q2. Write a Python Program to find the squares of all the numbers in the given list of integers using\n",
    "lambda and map functions.\n",
    "[1, 2, 3, 4, 5, 6, 7, 8, 9, 10]"
   ]
  },
  {
   "cell_type": "code",
   "execution_count": 2,
   "id": "05ab3775-fe44-43cd-b35b-a010c625a232",
   "metadata": {},
   "outputs": [
    {
     "data": {
      "text/plain": [
       "[1, 4, 9, 16, 25, 36, 49, 64, 81, 100]"
      ]
     },
     "execution_count": 2,
     "metadata": {},
     "output_type": "execute_result"
    }
   ],
   "source": [
    "l = [1,2,3,4,5,6,7,8,9,10]\n",
    "list(map(lambda a : a**2 ,l))"
   ]
  },
  {
   "cell_type": "markdown",
   "id": "82162e58-fb4b-49b1-808f-4ce6e9cacdd9",
   "metadata": {},
   "source": [
    "Q3. Write a python program to convert the given list of integers into a tuple of strings. Use map and\n",
    "lambda functions\n",
    "Given String: [1, 2, 3, 4, 5, 6, 7, 8, 9, 10]\n",
    "Expected output: ('1', '2', '3', '4', '5', '6', '7', '8', '9', '10')"
   ]
  },
  {
   "cell_type": "code",
   "execution_count": 5,
   "id": "35e18b93-1e1c-4d28-8ea3-a8d99c70b1ff",
   "metadata": {},
   "outputs": [
    {
     "data": {
      "text/plain": [
       "('1', '2', '3', '4', '5', '6', '7', '8', '9', '10')"
      ]
     },
     "execution_count": 5,
     "metadata": {},
     "output_type": "execute_result"
    }
   ],
   "source": [
    "l = [1,2,3,4,5,6,7,8,9,10]\n",
    "tuple(map(lambda a :str(a),l))"
   ]
  },
  {
   "cell_type": "markdown",
   "id": "02352e4f-b2a5-4c4d-b6d9-ca5f27104d47",
   "metadata": {},
   "source": [
    "Q4. Write a python program using reduce function to compute the product of a list containing numbers from 1 to 25.\n"
   ]
  },
  {
   "cell_type": "code",
   "execution_count": 6,
   "id": "2cc61cf8-9da2-4250-8d9b-24d8cd072be2",
   "metadata": {},
   "outputs": [],
   "source": [
    "l = [1,2,3,4,5,6,7,8,9,10,11,12,13,14,15,16,17,18,19,20,21,22,23,24,25,26,27,28,29,30]"
   ]
  },
  {
   "cell_type": "code",
   "execution_count": 10,
   "id": "269f7be6-b0cb-4004-9678-7e7314bc6c3e",
   "metadata": {},
   "outputs": [
    {
     "data": {
      "text/plain": [
       "265252859812191058636308480000000"
      ]
     },
     "execution_count": 10,
     "metadata": {},
     "output_type": "execute_result"
    }
   ],
   "source": [
    "from functools import reduce\n",
    "reduce(lambda x,y:x*y,l)"
   ]
  },
  {
   "cell_type": "markdown",
   "id": "2e46879e-4a30-4fac-8680-fea9fd2aa82f",
   "metadata": {},
   "source": [
    "Q5. Write a python program to filter the numbers in a given list that are divisible by 2 and 3 using the\n",
    "filter function.\n",
    "[2, 3, 6, 9, 27, 60, 90, 120, 55, 46]"
   ]
  },
  {
   "cell_type": "code",
   "execution_count": 12,
   "id": "1cde676a-329c-435a-8157-dd95aa2f5041",
   "metadata": {},
   "outputs": [
    {
     "data": {
      "text/plain": [
       "[6, 60, 90, 120]"
      ]
     },
     "execution_count": 12,
     "metadata": {},
     "output_type": "execute_result"
    }
   ],
   "source": [
    "l = [2,3,6,9,27,60,90,120,55,46]\n",
    "list(filter(lambda a : a%2==0 and a%3==0 , l))"
   ]
  },
  {
   "cell_type": "markdown",
   "id": "6c9dbae4-228b-4518-84e8-c34148501c29",
   "metadata": {},
   "source": [
    "Q6. Write a python program to find palindromes in the given list of strings using lambda and filter\n",
    "function.\n",
    "['python', 'php', 'aba', 'radar', 'level']"
   ]
  },
  {
   "cell_type": "code",
   "execution_count": 16,
   "id": "8be0fea7-6914-4deb-b140-ed1f4e89dd2d",
   "metadata": {},
   "outputs": [
    {
     "data": {
      "text/plain": [
       "['php', 'aba', 'radar', 'level']"
      ]
     },
     "execution_count": 16,
     "metadata": {},
     "output_type": "execute_result"
    }
   ],
   "source": [
    "l = [\"python\",\"php\",\"aba\",\"radar\",\"level\"]\n",
    "list(filter(lambda a: a == a[::-1], l))"
   ]
  }
 ],
 "metadata": {
  "kernelspec": {
   "display_name": "Python 3 (ipykernel)",
   "language": "python",
   "name": "python3"
  },
  "language_info": {
   "codemirror_mode": {
    "name": "ipython",
    "version": 3
   },
   "file_extension": ".py",
   "mimetype": "text/x-python",
   "name": "python",
   "nbconvert_exporter": "python",
   "pygments_lexer": "ipython3",
   "version": "3.10.8"
  }
 },
 "nbformat": 4,
 "nbformat_minor": 5
}
